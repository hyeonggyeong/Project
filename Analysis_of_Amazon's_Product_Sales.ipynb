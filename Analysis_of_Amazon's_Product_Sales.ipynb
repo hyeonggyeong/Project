{
  "nbformat": 4,
  "nbformat_minor": 0,
  "metadata": {
    "colab": {
      "name": "Analysis of Amazon's Product Sales.ipynb",
      "provenance": [],
      "collapsed_sections": [
        "4qpZlpmjMjw5",
        "0VdWZ2lFF5hp",
        "H0KYQ3ZZ_F6R",
        "4TdZDtNLBXT6",
        "IcOL-gJSCIQy"
      ],
      "authorship_tag": "ABX9TyOkJ3fT/KvSxEo9aPosrGj0",
      "include_colab_link": true
    },
    "kernelspec": {
      "name": "python3",
      "display_name": "Python 3"
    },
    "language_info": {
      "name": "python"
    }
  },
  "cells": [
    {
      "cell_type": "markdown",
      "metadata": {
        "id": "view-in-github",
        "colab_type": "text"
      },
      "source": [
        "<a href=\"https://colab.research.google.com/github/hyeonggyeong/Project/blob/main/Analysis_of_Amazon's_Product_Sales.ipynb\" target=\"_parent\"><img src=\"https://colab.research.google.com/assets/colab-badge.svg\" alt=\"Open In Colab\"/></a>"
      ]
    },
    {
      "cell_type": "markdown",
      "source": [
        "#Analysis of Amazon's product sales \n",
        "2021-2. Big Data Analytics _ Final Report_2016011405 김형경"
      ],
      "metadata": {
        "id": "4qpZlpmjMjw5"
      }
    },
    {
      "cell_type": "code",
      "execution_count": null,
      "metadata": {
        "colab": {
          "base_uri": "https://localhost:8080/"
        },
        "id": "Z95KM84luPmH",
        "outputId": "7b15c500-b0c8-4e98-9436-ebe18baa8d71"
      },
      "outputs": [
        {
          "output_type": "stream",
          "name": "stdout",
          "text": [
            "Mounted at /content/drive\n"
          ]
        }
      ],
      "source": [
        "import pandas as pd\n",
        "import numpy as np\n",
        "import os\n",
        "import matplotlib.pyplot as plt\n",
        "from google.colab import drive\n",
        "drive.mount('/content/drive')"
      ]
    },
    {
      "cell_type": "markdown",
      "source": [
        "# Preprocessing"
      ],
      "metadata": {
        "id": "0VdWZ2lFF5hp"
      }
    },
    {
      "cell_type": "code",
      "source": [
        "data =pd.read_csv('/content/drive/MyDrive/data/merge_sales_data.csv')"
      ],
      "metadata": {
        "id": "EouIHQeRux22"
      },
      "execution_count": null,
      "outputs": []
    },
    {
      "cell_type": "code",
      "source": [
        "data.shape"
      ],
      "metadata": {
        "colab": {
          "base_uri": "https://localhost:8080/"
        },
        "id": "no_7-jjAfZ1o",
        "outputId": "c630d926-63d3-49dd-9757-3e74ddd953b3"
      },
      "execution_count": null,
      "outputs": [
        {
          "output_type": "execute_result",
          "data": {
            "text/plain": [
              "(185950, 6)"
            ]
          },
          "metadata": {},
          "execution_count": 5
        }
      ]
    },
    {
      "cell_type": "code",
      "source": [
        "data.head()"
      ],
      "metadata": {
        "colab": {
          "base_uri": "https://localhost:8080/",
          "height": 206
        },
        "id": "h6tZAl8YD5Kq",
        "outputId": "d82c4f46-81cc-4442-a4dc-2121c0c63628"
      },
      "execution_count": null,
      "outputs": [
        {
          "output_type": "execute_result",
          "data": {
            "text/html": [
              "<div>\n",
              "<style scoped>\n",
              "    .dataframe tbody tr th:only-of-type {\n",
              "        vertical-align: middle;\n",
              "    }\n",
              "\n",
              "    .dataframe tbody tr th {\n",
              "        vertical-align: top;\n",
              "    }\n",
              "\n",
              "    .dataframe thead th {\n",
              "        text-align: right;\n",
              "    }\n",
              "</style>\n",
              "<table border=\"1\" class=\"dataframe\">\n",
              "  <thead>\n",
              "    <tr style=\"text-align: right;\">\n",
              "      <th></th>\n",
              "      <th>Order ID</th>\n",
              "      <th>Product</th>\n",
              "      <th>Quantity Ordered</th>\n",
              "      <th>Price Each</th>\n",
              "      <th>Order Date</th>\n",
              "      <th>Purchase Address</th>\n",
              "    </tr>\n",
              "  </thead>\n",
              "  <tbody>\n",
              "    <tr>\n",
              "      <th>0</th>\n",
              "      <td>236670</td>\n",
              "      <td>Wired Headphones</td>\n",
              "      <td>2</td>\n",
              "      <td>11.99</td>\n",
              "      <td>08/31/19 22:21</td>\n",
              "      <td>359 Spruce St, Seattle, WA 98101</td>\n",
              "    </tr>\n",
              "    <tr>\n",
              "      <th>1</th>\n",
              "      <td>236671</td>\n",
              "      <td>Bose SoundSport Headphones</td>\n",
              "      <td>1</td>\n",
              "      <td>99.99</td>\n",
              "      <td>08/15/19 15:11</td>\n",
              "      <td>492 Ridge St, Dallas, TX 75001</td>\n",
              "    </tr>\n",
              "    <tr>\n",
              "      <th>2</th>\n",
              "      <td>236672</td>\n",
              "      <td>iPhone</td>\n",
              "      <td>1</td>\n",
              "      <td>700.00</td>\n",
              "      <td>2008-06-19 14:40</td>\n",
              "      <td>149 7th St, Portland, OR 97035</td>\n",
              "    </tr>\n",
              "    <tr>\n",
              "      <th>3</th>\n",
              "      <td>236673</td>\n",
              "      <td>AA Batteries (4-pack)</td>\n",
              "      <td>2</td>\n",
              "      <td>3.84</td>\n",
              "      <td>08/29/19 20:59</td>\n",
              "      <td>631 2nd St, Los Angeles, CA 90001</td>\n",
              "    </tr>\n",
              "    <tr>\n",
              "      <th>4</th>\n",
              "      <td>236674</td>\n",
              "      <td>AA Batteries (4-pack)</td>\n",
              "      <td>2</td>\n",
              "      <td>3.84</td>\n",
              "      <td>08/15/19 19:53</td>\n",
              "      <td>736 14th St, New York City, NY 10001</td>\n",
              "    </tr>\n",
              "  </tbody>\n",
              "</table>\n",
              "</div>"
            ],
            "text/plain": [
              "   Order ID  ...                      Purchase Address\n",
              "0    236670  ...      359 Spruce St, Seattle, WA 98101\n",
              "1    236671  ...        492 Ridge St, Dallas, TX 75001\n",
              "2    236672  ...        149 7th St, Portland, OR 97035\n",
              "3    236673  ...     631 2nd St, Los Angeles, CA 90001\n",
              "4    236674  ...  736 14th St, New York City, NY 10001\n",
              "\n",
              "[5 rows x 6 columns]"
            ]
          },
          "metadata": {},
          "execution_count": 17
        }
      ]
    },
    {
      "cell_type": "code",
      "source": [
        "data.isnull().sum() # 데이터 결측치 확인"
      ],
      "metadata": {
        "colab": {
          "base_uri": "https://localhost:8080/"
        },
        "id": "w9Jz3A1uvO8E",
        "outputId": "4357c32e-d82c-4e7b-88eb-687b4bc3491c"
      },
      "execution_count": null,
      "outputs": [
        {
          "output_type": "execute_result",
          "data": {
            "text/plain": [
              "Order ID            0\n",
              "Product             0\n",
              "Quantity Ordered    0\n",
              "Price Each          0\n",
              "Order Date          0\n",
              "Purchase Address    0\n",
              "dtype: int64"
            ]
          },
          "metadata": {},
          "execution_count": 18
        }
      ]
    },
    {
      "cell_type": "code",
      "source": [
        "data.info()  # order date가 object형식인 것을 확인 가능"
      ],
      "metadata": {
        "colab": {
          "base_uri": "https://localhost:8080/"
        },
        "id": "6OcdDaDr72IT",
        "outputId": "cc02ac6f-ae0c-4242-9cfa-4542cb437d55"
      },
      "execution_count": null,
      "outputs": [
        {
          "output_type": "stream",
          "name": "stdout",
          "text": [
            "<class 'pandas.core.frame.DataFrame'>\n",
            "RangeIndex: 185950 entries, 0 to 185949\n",
            "Data columns (total 6 columns):\n",
            " #   Column            Non-Null Count   Dtype  \n",
            "---  ------            --------------   -----  \n",
            " 0   Order ID          185950 non-null  int64  \n",
            " 1   Product           185950 non-null  object \n",
            " 2   Quantity Ordered  185950 non-null  int64  \n",
            " 3   Price Each        185950 non-null  float64\n",
            " 4   Order Date        185950 non-null  object \n",
            " 5   Purchase Address  185950 non-null  object \n",
            "dtypes: float64(1), int64(2), object(3)\n",
            "memory usage: 8.5+ MB\n"
          ]
        }
      ]
    },
    {
      "cell_type": "code",
      "source": [
        "data['Order Date_format']=pd.to_datetime(data['Order Date']) # datetime형식으로 변환 후 'Order Date_format' 컬럼으로 저장"
      ],
      "metadata": {
        "id": "OleZ4ZKW8C-k"
      },
      "execution_count": null,
      "outputs": []
    },
    {
      "cell_type": "code",
      "source": [
        "data.head()  # Order Date_format 컬럼이 추가 된 것을 확인 가능"
      ],
      "metadata": {
        "colab": {
          "base_uri": "https://localhost:8080/",
          "height": 206
        },
        "id": "2OLcMG278Skc",
        "outputId": "7f871343-618f-4dc9-e274-101ec452f815"
      },
      "execution_count": null,
      "outputs": [
        {
          "output_type": "execute_result",
          "data": {
            "text/html": [
              "<div>\n",
              "<style scoped>\n",
              "    .dataframe tbody tr th:only-of-type {\n",
              "        vertical-align: middle;\n",
              "    }\n",
              "\n",
              "    .dataframe tbody tr th {\n",
              "        vertical-align: top;\n",
              "    }\n",
              "\n",
              "    .dataframe thead th {\n",
              "        text-align: right;\n",
              "    }\n",
              "</style>\n",
              "<table border=\"1\" class=\"dataframe\">\n",
              "  <thead>\n",
              "    <tr style=\"text-align: right;\">\n",
              "      <th></th>\n",
              "      <th>Order ID</th>\n",
              "      <th>Product</th>\n",
              "      <th>Quantity Ordered</th>\n",
              "      <th>Price Each</th>\n",
              "      <th>Order Date</th>\n",
              "      <th>Purchase Address</th>\n",
              "      <th>Order Date_format</th>\n",
              "    </tr>\n",
              "  </thead>\n",
              "  <tbody>\n",
              "    <tr>\n",
              "      <th>0</th>\n",
              "      <td>236670</td>\n",
              "      <td>Wired Headphones</td>\n",
              "      <td>2</td>\n",
              "      <td>11.99</td>\n",
              "      <td>08/31/19 22:21</td>\n",
              "      <td>359 Spruce St, Seattle, WA 98101</td>\n",
              "      <td>2019-08-31 22:21:00</td>\n",
              "    </tr>\n",
              "    <tr>\n",
              "      <th>1</th>\n",
              "      <td>236671</td>\n",
              "      <td>Bose SoundSport Headphones</td>\n",
              "      <td>1</td>\n",
              "      <td>99.99</td>\n",
              "      <td>08/15/19 15:11</td>\n",
              "      <td>492 Ridge St, Dallas, TX 75001</td>\n",
              "      <td>2019-08-15 15:11:00</td>\n",
              "    </tr>\n",
              "    <tr>\n",
              "      <th>2</th>\n",
              "      <td>236672</td>\n",
              "      <td>iPhone</td>\n",
              "      <td>1</td>\n",
              "      <td>700.00</td>\n",
              "      <td>2008-06-19 14:40</td>\n",
              "      <td>149 7th St, Portland, OR 97035</td>\n",
              "      <td>2008-06-19 14:40:00</td>\n",
              "    </tr>\n",
              "    <tr>\n",
              "      <th>3</th>\n",
              "      <td>236673</td>\n",
              "      <td>AA Batteries (4-pack)</td>\n",
              "      <td>2</td>\n",
              "      <td>3.84</td>\n",
              "      <td>08/29/19 20:59</td>\n",
              "      <td>631 2nd St, Los Angeles, CA 90001</td>\n",
              "      <td>2019-08-29 20:59:00</td>\n",
              "    </tr>\n",
              "    <tr>\n",
              "      <th>4</th>\n",
              "      <td>236674</td>\n",
              "      <td>AA Batteries (4-pack)</td>\n",
              "      <td>2</td>\n",
              "      <td>3.84</td>\n",
              "      <td>08/15/19 19:53</td>\n",
              "      <td>736 14th St, New York City, NY 10001</td>\n",
              "      <td>2019-08-15 19:53:00</td>\n",
              "    </tr>\n",
              "  </tbody>\n",
              "</table>\n",
              "</div>"
            ],
            "text/plain": [
              "   Order ID  ...   Order Date_format\n",
              "0    236670  ... 2019-08-31 22:21:00\n",
              "1    236671  ... 2019-08-15 15:11:00\n",
              "2    236672  ... 2008-06-19 14:40:00\n",
              "3    236673  ... 2019-08-29 20:59:00\n",
              "4    236674  ... 2019-08-15 19:53:00\n",
              "\n",
              "[5 rows x 7 columns]"
            ]
          },
          "metadata": {},
          "execution_count": 21
        }
      ]
    },
    {
      "cell_type": "code",
      "source": [
        "#분석을 위해 년/월/일/시/분 으로 나누어 컬럼생성\n",
        "data['Order_year'] = data['Order Date_format'].dt.year\n",
        "data['Order_month'] = data['Order Date_format'].dt.month\n",
        "data['Order_day'] = data['Order Date_format'].dt.day\n",
        "data['Order_hour'] = data['Order Date_format'].dt.hour\n",
        "data['Order_minute'] = data['Order Date_format'].dt.minute    "
      ],
      "metadata": {
        "id": "lf7jLaOf8tTj"
      },
      "execution_count": null,
      "outputs": []
    },
    {
      "cell_type": "code",
      "source": [
        "data.head()"
      ],
      "metadata": {
        "colab": {
          "base_uri": "https://localhost:8080/",
          "height": 310
        },
        "id": "bmnfuPWM-ZEr",
        "outputId": "f4a0eeaf-f21d-4cb3-96f6-c2c8580bab48"
      },
      "execution_count": null,
      "outputs": [
        {
          "output_type": "execute_result",
          "data": {
            "text/html": [
              "<div>\n",
              "<style scoped>\n",
              "    .dataframe tbody tr th:only-of-type {\n",
              "        vertical-align: middle;\n",
              "    }\n",
              "\n",
              "    .dataframe tbody tr th {\n",
              "        vertical-align: top;\n",
              "    }\n",
              "\n",
              "    .dataframe thead th {\n",
              "        text-align: right;\n",
              "    }\n",
              "</style>\n",
              "<table border=\"1\" class=\"dataframe\">\n",
              "  <thead>\n",
              "    <tr style=\"text-align: right;\">\n",
              "      <th></th>\n",
              "      <th>Order ID</th>\n",
              "      <th>Product</th>\n",
              "      <th>Quantity Ordered</th>\n",
              "      <th>Price Each</th>\n",
              "      <th>Order Date</th>\n",
              "      <th>Purchase Address</th>\n",
              "      <th>Order Date_format</th>\n",
              "      <th>Order_year</th>\n",
              "      <th>Order_month</th>\n",
              "      <th>Order_day</th>\n",
              "      <th>Order_hour</th>\n",
              "      <th>Order_minute</th>\n",
              "    </tr>\n",
              "  </thead>\n",
              "  <tbody>\n",
              "    <tr>\n",
              "      <th>0</th>\n",
              "      <td>236670</td>\n",
              "      <td>Wired Headphones</td>\n",
              "      <td>2</td>\n",
              "      <td>11.99</td>\n",
              "      <td>08/31/19 22:21</td>\n",
              "      <td>359 Spruce St, Seattle, WA 98101</td>\n",
              "      <td>2019-08-31 22:21:00</td>\n",
              "      <td>2019</td>\n",
              "      <td>8</td>\n",
              "      <td>31</td>\n",
              "      <td>22</td>\n",
              "      <td>21</td>\n",
              "    </tr>\n",
              "    <tr>\n",
              "      <th>1</th>\n",
              "      <td>236671</td>\n",
              "      <td>Bose SoundSport Headphones</td>\n",
              "      <td>1</td>\n",
              "      <td>99.99</td>\n",
              "      <td>08/15/19 15:11</td>\n",
              "      <td>492 Ridge St, Dallas, TX 75001</td>\n",
              "      <td>2019-08-15 15:11:00</td>\n",
              "      <td>2019</td>\n",
              "      <td>8</td>\n",
              "      <td>15</td>\n",
              "      <td>15</td>\n",
              "      <td>11</td>\n",
              "    </tr>\n",
              "    <tr>\n",
              "      <th>2</th>\n",
              "      <td>236672</td>\n",
              "      <td>iPhone</td>\n",
              "      <td>1</td>\n",
              "      <td>700.00</td>\n",
              "      <td>2008-06-19 14:40</td>\n",
              "      <td>149 7th St, Portland, OR 97035</td>\n",
              "      <td>2008-06-19 14:40:00</td>\n",
              "      <td>2008</td>\n",
              "      <td>6</td>\n",
              "      <td>19</td>\n",
              "      <td>14</td>\n",
              "      <td>40</td>\n",
              "    </tr>\n",
              "    <tr>\n",
              "      <th>3</th>\n",
              "      <td>236673</td>\n",
              "      <td>AA Batteries (4-pack)</td>\n",
              "      <td>2</td>\n",
              "      <td>3.84</td>\n",
              "      <td>08/29/19 20:59</td>\n",
              "      <td>631 2nd St, Los Angeles, CA 90001</td>\n",
              "      <td>2019-08-29 20:59:00</td>\n",
              "      <td>2019</td>\n",
              "      <td>8</td>\n",
              "      <td>29</td>\n",
              "      <td>20</td>\n",
              "      <td>59</td>\n",
              "    </tr>\n",
              "    <tr>\n",
              "      <th>4</th>\n",
              "      <td>236674</td>\n",
              "      <td>AA Batteries (4-pack)</td>\n",
              "      <td>2</td>\n",
              "      <td>3.84</td>\n",
              "      <td>08/15/19 19:53</td>\n",
              "      <td>736 14th St, New York City, NY 10001</td>\n",
              "      <td>2019-08-15 19:53:00</td>\n",
              "      <td>2019</td>\n",
              "      <td>8</td>\n",
              "      <td>15</td>\n",
              "      <td>19</td>\n",
              "      <td>53</td>\n",
              "    </tr>\n",
              "  </tbody>\n",
              "</table>\n",
              "</div>"
            ],
            "text/plain": [
              "   Order ID                     Product  ...  Order_hour  Order_minute\n",
              "0    236670            Wired Headphones  ...          22            21\n",
              "1    236671  Bose SoundSport Headphones  ...          15            11\n",
              "2    236672                      iPhone  ...          14            40\n",
              "3    236673       AA Batteries (4-pack)  ...          20            59\n",
              "4    236674       AA Batteries (4-pack)  ...          19            53\n",
              "\n",
              "[5 rows x 12 columns]"
            ]
          },
          "metadata": {},
          "execution_count": 23
        }
      ]
    },
    {
      "cell_type": "markdown",
      "source": [
        "# Q1. When is the month with the highest sales?\n",
        "→ A1 :  December"
      ],
      "metadata": {
        "id": "H0KYQ3ZZ_F6R"
      }
    },
    {
      "cell_type": "code",
      "source": [
        "fre_month = data.groupby('Order_month')['Quantity Ordered'].sum()\n",
        "fre_month.sort_values(ascending = False)"
      ],
      "metadata": {
        "colab": {
          "base_uri": "https://localhost:8080/"
        },
        "id": "c4nN2ICe9OJj",
        "outputId": "021633fd-1f82-4940-b630-035b6dae3c2b"
      },
      "execution_count": null,
      "outputs": [
        {
          "output_type": "execute_result",
          "data": {
            "text/plain": [
              "Order_month\n",
              "12    24441\n",
              "10    20956\n",
              "4     19150\n",
              "11    18606\n",
              "5     18338\n",
              "3     16930\n",
              "7     16613\n",
              "6     15911\n",
              "8     15101\n",
              "2     14729\n",
              "9     14709\n",
              "1     13595\n",
              "Name: Quantity Ordered, dtype: int64"
            ]
          },
          "metadata": {},
          "execution_count": 500
        }
      ]
    },
    {
      "cell_type": "code",
      "source": [
        "labels = fre_month.index\n",
        "plt.subplots(figsize=(10, 5))\n",
        "plt.bar(labels, fre_month)\n",
        "plt.xticks(labels)\n",
        "plt.title('Monthly sales', fontsize = 20)\n",
        "plt.xlabel('Month', fontsize = 16)\n",
        "plt.ylabel('Sales', fontsize = 16)\n",
        "plt.show()"
      ],
      "metadata": {
        "colab": {
          "base_uri": "https://localhost:8080/"
        },
        "id": "hY_c9d1g7nOM",
        "outputId": "c95b964d-ce7c-4e21-def7-d70a6f290dfb"
      },
      "execution_count": null,
      "outputs": [
        {
          "output_type": "display_data",
          "data": {
            "image/png": "[encoded data removed]",
            "text/plain": [
              "<Figure size 720x360 with 1 Axes>"
            ]
          },
          "metadata": {
            "needs_background": "light"
          }
        }
      ]
    },
    {
      "cell_type": "markdown",
      "source": [
        "#Q2. When is the time zone with the highest sales?\n",
        "\n",
        "→ A2 : 19:00~19:59"
      ],
      "metadata": {
        "id": "4TdZDtNLBXT6"
      }
    },
    {
      "cell_type": "code",
      "source": [
        "fre_time = data.groupby('Order_hour')['Quantity Ordered'].sum()\n",
        "fre_time.sort_values(ascending = False)"
      ],
      "metadata": {
        "colab": {
          "base_uri": "https://localhost:8080/"
        },
        "id": "ehkDq27t_XUD",
        "outputId": "1f493196-549a-47c6-da68-283ceb28eded"
      },
      "execution_count": null,
      "outputs": [
        {
          "output_type": "execute_result",
          "data": {
            "text/plain": [
              "Order_hour\n",
              "19    14470\n",
              "12    14202\n",
              "11    14005\n",
              "18    13802\n",
              "20    13768\n",
              "13    13685\n",
              "14    12362\n",
              "10    12308\n",
              "21    12244\n",
              "17    12229\n",
              "16    11662\n",
              "15    11391\n",
              "22     9899\n",
              "9      9816\n",
              "23     7065\n",
              "8      7002\n",
              "7      4556\n",
              "0      4428\n",
              "6      2810\n",
              "1      2619\n",
              "5      1493\n",
              "2      1398\n",
              "4       937\n",
              "3       928\n",
              "Name: Quantity Ordered, dtype: int64"
            ]
          },
          "metadata": {},
          "execution_count": 491
        }
      ]
    },
    {
      "cell_type": "code",
      "source": [
        "labels = fre_time.index\n",
        "plt.subplots(figsize=(10, 5))\n",
        "plt.plot(labels, fre_time,marker = 'o')\n",
        "plt.xticks(labels)\n",
        "plt.show()"
      ],
      "metadata": {
        "colab": {
          "base_uri": "https://localhost:8080/",
          "height": 320
        },
        "id": "OC3-M3BfDDiq",
        "outputId": "99abcb55-ee9f-487b-85a5-a81ba57e667e"
      },
      "execution_count": null,
      "outputs": [
        {
          "output_type": "display_data",
          "data": {
            "image/png": "[encoded data removed]",
            "text/plain": [
              "<Figure size 720x360 with 1 Axes>"
            ]
          },
          "metadata": {
            "needs_background": "light"
          }
        }
      ]
    },
    {
      "cell_type": "markdown",
      "source": [
        "# Q3. What's the product that sells the most together?\n",
        "→ A3 : \"iPhone\", \"Lightning Charging Cable\""
      ],
      "metadata": {
        "id": "IcOL-gJSCIQy"
      }
    },
    {
      "cell_type": "code",
      "source": [
        "# duplicated 함수를 통해 같은 ID로 구매한 데이터만 추출하여 data1으로 저장\n",
        "data1 = data[data['Order ID'].duplicated(keep =False)] "
      ],
      "metadata": {
        "id": "tnekpsCRMBpA"
      },
      "execution_count": null,
      "outputs": []
    },
    {
      "cell_type": "code",
      "source": [
        " #data1에서 Order ID, Product 컬럼만 추출해서 data2에 저장\n",
        "data2=data1.iloc[:,:2] "
      ],
      "metadata": {
        "id": "jUwFUE_NSlVR"
      },
      "execution_count": null,
      "outputs": []
    },
    {
      "cell_type": "code",
      "source": [
        "data2.head()"
      ],
      "metadata": {
        "colab": {
          "base_uri": "https://localhost:8080/",
          "height": 206
        },
        "id": "urPPLqixzz_0",
        "outputId": "05519d64-cecd-4e9e-a527-4cf4b194f273"
      },
      "execution_count": null,
      "outputs": [
        {
          "output_type": "execute_result",
          "data": {
            "text/html": [
              "<div>\n",
              "<style scoped>\n",
              "    .dataframe tbody tr th:only-of-type {\n",
              "        vertical-align: middle;\n",
              "    }\n",
              "\n",
              "    .dataframe tbody tr th {\n",
              "        vertical-align: top;\n",
              "    }\n",
              "\n",
              "    .dataframe thead th {\n",
              "        text-align: right;\n",
              "    }\n",
              "</style>\n",
              "<table border=\"1\" class=\"dataframe\">\n",
              "  <thead>\n",
              "    <tr style=\"text-align: right;\">\n",
              "      <th></th>\n",
              "      <th>Order ID</th>\n",
              "      <th>Product</th>\n",
              "    </tr>\n",
              "  </thead>\n",
              "  <tbody>\n",
              "    <tr>\n",
              "      <th>46</th>\n",
              "      <td>236716</td>\n",
              "      <td>AA Batteries (4-pack)</td>\n",
              "    </tr>\n",
              "    <tr>\n",
              "      <th>47</th>\n",
              "      <td>236716</td>\n",
              "      <td>USB-C Charging Cable</td>\n",
              "    </tr>\n",
              "    <tr>\n",
              "      <th>60</th>\n",
              "      <td>236729</td>\n",
              "      <td>iPhone</td>\n",
              "    </tr>\n",
              "    <tr>\n",
              "      <th>61</th>\n",
              "      <td>236729</td>\n",
              "      <td>Apple Airpods Headphones</td>\n",
              "    </tr>\n",
              "    <tr>\n",
              "      <th>62</th>\n",
              "      <td>236730</td>\n",
              "      <td>Google Phone</td>\n",
              "    </tr>\n",
              "  </tbody>\n",
              "</table>\n",
              "</div>"
            ],
            "text/plain": [
              "    Order ID                   Product\n",
              "46    236716     AA Batteries (4-pack)\n",
              "47    236716      USB-C Charging Cable\n",
              "60    236729                    iPhone\n",
              "61    236729  Apple Airpods Headphones\n",
              "62    236730              Google Phone"
            ]
          },
          "metadata": {},
          "execution_count": 8
        }
      ]
    },
    {
      "cell_type": "code",
      "source": [
        "# Product컬럼의 범주형 데이터를 pd.get_dummies을 활용하여 0,1의 형태로 변환  → 연관성 분석을 하기 위함\n",
        "data2 = pd.get_dummies(data2) "
      ],
      "metadata": {
        "id": "KmhSDhNCGnyK"
      },
      "execution_count": null,
      "outputs": []
    },
    {
      "cell_type": "code",
      "source": [
        "# 결과 확인\n",
        "data2.head()"
      ],
      "metadata": {
        "colab": {
          "base_uri": "https://localhost:8080/",
          "height": 261
        },
        "id": "DVEXTqbqG_tS",
        "outputId": "eb8adc84-a8c2-4e0f-f705-3ae042a5ee69"
      },
      "execution_count": null,
      "outputs": [
        {
          "output_type": "execute_result",
          "data": {
            "text/html": [
              "<div>\n",
              "<style scoped>\n",
              "    .dataframe tbody tr th:only-of-type {\n",
              "        vertical-align: middle;\n",
              "    }\n",
              "\n",
              "    .dataframe tbody tr th {\n",
              "        vertical-align: top;\n",
              "    }\n",
              "\n",
              "    .dataframe thead th {\n",
              "        text-align: right;\n",
              "    }\n",
              "</style>\n",
              "<table border=\"1\" class=\"dataframe\">\n",
              "  <thead>\n",
              "    <tr style=\"text-align: right;\">\n",
              "      <th></th>\n",
              "      <th>Order ID</th>\n",
              "      <th>Product_20in Monitor</th>\n",
              "      <th>Product_27in 4K Gaming Monitor</th>\n",
              "      <th>Product_27in FHD Monitor</th>\n",
              "      <th>Product_34in Ultrawide Monitor</th>\n",
              "      <th>Product_AA Batteries (4-pack)</th>\n",
              "      <th>Product_AAA Batteries (4-pack)</th>\n",
              "      <th>Product_Apple Airpods Headphones</th>\n",
              "      <th>Product_Bose SoundSport Headphones</th>\n",
              "      <th>Product_Flatscreen TV</th>\n",
              "      <th>Product_Google Phone</th>\n",
              "      <th>Product_LG Dryer</th>\n",
              "      <th>Product_LG Washing Machine</th>\n",
              "      <th>Product_Lightning Charging Cable</th>\n",
              "      <th>Product_Macbook Pro Laptop</th>\n",
              "      <th>Product_ThinkPad Laptop</th>\n",
              "      <th>Product_USB-C Charging Cable</th>\n",
              "      <th>Product_Vareebadd Phone</th>\n",
              "      <th>Product_Wired Headphones</th>\n",
              "      <th>Product_iPhone</th>\n",
              "    </tr>\n",
              "  </thead>\n",
              "  <tbody>\n",
              "    <tr>\n",
              "      <th>46</th>\n",
              "      <td>236716</td>\n",
              "      <td>0</td>\n",
              "      <td>0</td>\n",
              "      <td>0</td>\n",
              "      <td>0</td>\n",
              "      <td>1</td>\n",
              "      <td>0</td>\n",
              "      <td>0</td>\n",
              "      <td>0</td>\n",
              "      <td>0</td>\n",
              "      <td>0</td>\n",
              "      <td>0</td>\n",
              "      <td>0</td>\n",
              "      <td>0</td>\n",
              "      <td>0</td>\n",
              "      <td>0</td>\n",
              "      <td>0</td>\n",
              "      <td>0</td>\n",
              "      <td>0</td>\n",
              "      <td>0</td>\n",
              "    </tr>\n",
              "    <tr>\n",
              "      <th>47</th>\n",
              "      <td>236716</td>\n",
              "      <td>0</td>\n",
              "      <td>0</td>\n",
              "      <td>0</td>\n",
              "      <td>0</td>\n",
              "      <td>0</td>\n",
              "      <td>0</td>\n",
              "      <td>0</td>\n",
              "      <td>0</td>\n",
              "      <td>0</td>\n",
              "      <td>0</td>\n",
              "      <td>0</td>\n",
              "      <td>0</td>\n",
              "      <td>0</td>\n",
              "      <td>0</td>\n",
              "      <td>0</td>\n",
              "      <td>1</td>\n",
              "      <td>0</td>\n",
              "      <td>0</td>\n",
              "      <td>0</td>\n",
              "    </tr>\n",
              "    <tr>\n",
              "      <th>60</th>\n",
              "      <td>236729</td>\n",
              "      <td>0</td>\n",
              "      <td>0</td>\n",
              "      <td>0</td>\n",
              "      <td>0</td>\n",
              "      <td>0</td>\n",
              "      <td>0</td>\n",
              "      <td>0</td>\n",
              "      <td>0</td>\n",
              "      <td>0</td>\n",
              "      <td>0</td>\n",
              "      <td>0</td>\n",
              "      <td>0</td>\n",
              "      <td>0</td>\n",
              "      <td>0</td>\n",
              "      <td>0</td>\n",
              "      <td>0</td>\n",
              "      <td>0</td>\n",
              "      <td>0</td>\n",
              "      <td>1</td>\n",
              "    </tr>\n",
              "    <tr>\n",
              "      <th>61</th>\n",
              "      <td>236729</td>\n",
              "      <td>0</td>\n",
              "      <td>0</td>\n",
              "      <td>0</td>\n",
              "      <td>0</td>\n",
              "      <td>0</td>\n",
              "      <td>0</td>\n",
              "      <td>1</td>\n",
              "      <td>0</td>\n",
              "      <td>0</td>\n",
              "      <td>0</td>\n",
              "      <td>0</td>\n",
              "      <td>0</td>\n",
              "      <td>0</td>\n",
              "      <td>0</td>\n",
              "      <td>0</td>\n",
              "      <td>0</td>\n",
              "      <td>0</td>\n",
              "      <td>0</td>\n",
              "      <td>0</td>\n",
              "    </tr>\n",
              "    <tr>\n",
              "      <th>62</th>\n",
              "      <td>236730</td>\n",
              "      <td>0</td>\n",
              "      <td>0</td>\n",
              "      <td>0</td>\n",
              "      <td>0</td>\n",
              "      <td>0</td>\n",
              "      <td>0</td>\n",
              "      <td>0</td>\n",
              "      <td>0</td>\n",
              "      <td>0</td>\n",
              "      <td>1</td>\n",
              "      <td>0</td>\n",
              "      <td>0</td>\n",
              "      <td>0</td>\n",
              "      <td>0</td>\n",
              "      <td>0</td>\n",
              "      <td>0</td>\n",
              "      <td>0</td>\n",
              "      <td>0</td>\n",
              "      <td>0</td>\n",
              "    </tr>\n",
              "  </tbody>\n",
              "</table>\n",
              "</div>"
            ],
            "text/plain": [
              "    Order ID  Product_20in Monitor  ...  Product_Wired Headphones  Product_iPhone\n",
              "46    236716                     0  ...                         0               0\n",
              "47    236716                     0  ...                         0               0\n",
              "60    236729                     0  ...                         0               1\n",
              "61    236729                     0  ...                         0               0\n",
              "62    236730                     0  ...                         0               0\n",
              "\n",
              "[5 rows x 20 columns]"
            ]
          },
          "metadata": {},
          "execution_count": 10
        }
      ]
    },
    {
      "cell_type": "code",
      "source": [
        "# ID를 기준으로 동일한 ID를 가진 행은 더해서 encoder_data에 저장\n",
        "encoder_data = data2.groupby('Order ID').sum() "
      ],
      "metadata": {
        "id": "PxNklbF1waH1"
      },
      "execution_count": null,
      "outputs": []
    },
    {
      "cell_type": "code",
      "source": [
        "# 결과 확인\n",
        "encoder_data.head()"
      ],
      "metadata": {
        "colab": {
          "base_uri": "https://localhost:8080/",
          "height": 310
        },
        "id": "eiS6vKNsv1s0",
        "outputId": "5955a1bb-bc38-42e9-dc79-1987b3b90bf7"
      },
      "execution_count": null,
      "outputs": [
        {
          "output_type": "execute_result",
          "data": {
            "text/html": [
              "<div>\n",
              "<style scoped>\n",
              "    .dataframe tbody tr th:only-of-type {\n",
              "        vertical-align: middle;\n",
              "    }\n",
              "\n",
              "    .dataframe tbody tr th {\n",
              "        vertical-align: top;\n",
              "    }\n",
              "\n",
              "    .dataframe thead th {\n",
              "        text-align: right;\n",
              "    }\n",
              "</style>\n",
              "<table border=\"1\" class=\"dataframe\">\n",
              "  <thead>\n",
              "    <tr style=\"text-align: right;\">\n",
              "      <th></th>\n",
              "      <th>Product_20in Monitor</th>\n",
              "      <th>Product_27in 4K Gaming Monitor</th>\n",
              "      <th>Product_27in FHD Monitor</th>\n",
              "      <th>Product_34in Ultrawide Monitor</th>\n",
              "      <th>Product_AA Batteries (4-pack)</th>\n",
              "      <th>Product_AAA Batteries (4-pack)</th>\n",
              "      <th>Product_Apple Airpods Headphones</th>\n",
              "      <th>Product_Bose SoundSport Headphones</th>\n",
              "      <th>Product_Flatscreen TV</th>\n",
              "      <th>Product_Google Phone</th>\n",
              "      <th>Product_LG Dryer</th>\n",
              "      <th>Product_LG Washing Machine</th>\n",
              "      <th>Product_Lightning Charging Cable</th>\n",
              "      <th>Product_Macbook Pro Laptop</th>\n",
              "      <th>Product_ThinkPad Laptop</th>\n",
              "      <th>Product_USB-C Charging Cable</th>\n",
              "      <th>Product_Vareebadd Phone</th>\n",
              "      <th>Product_Wired Headphones</th>\n",
              "      <th>Product_iPhone</th>\n",
              "    </tr>\n",
              "    <tr>\n",
              "      <th>Order ID</th>\n",
              "      <th></th>\n",
              "      <th></th>\n",
              "      <th></th>\n",
              "      <th></th>\n",
              "      <th></th>\n",
              "      <th></th>\n",
              "      <th></th>\n",
              "      <th></th>\n",
              "      <th></th>\n",
              "      <th></th>\n",
              "      <th></th>\n",
              "      <th></th>\n",
              "      <th></th>\n",
              "      <th></th>\n",
              "      <th></th>\n",
              "      <th></th>\n",
              "      <th></th>\n",
              "      <th></th>\n",
              "      <th></th>\n",
              "    </tr>\n",
              "  </thead>\n",
              "  <tbody>\n",
              "    <tr>\n",
              "      <th>141275</th>\n",
              "      <td>0</td>\n",
              "      <td>0</td>\n",
              "      <td>0</td>\n",
              "      <td>0</td>\n",
              "      <td>0</td>\n",
              "      <td>0</td>\n",
              "      <td>0</td>\n",
              "      <td>0</td>\n",
              "      <td>0</td>\n",
              "      <td>0</td>\n",
              "      <td>0</td>\n",
              "      <td>0</td>\n",
              "      <td>0</td>\n",
              "      <td>0</td>\n",
              "      <td>0</td>\n",
              "      <td>1</td>\n",
              "      <td>0</td>\n",
              "      <td>1</td>\n",
              "      <td>0</td>\n",
              "    </tr>\n",
              "    <tr>\n",
              "      <th>141290</th>\n",
              "      <td>0</td>\n",
              "      <td>0</td>\n",
              "      <td>0</td>\n",
              "      <td>0</td>\n",
              "      <td>1</td>\n",
              "      <td>0</td>\n",
              "      <td>1</td>\n",
              "      <td>0</td>\n",
              "      <td>0</td>\n",
              "      <td>0</td>\n",
              "      <td>0</td>\n",
              "      <td>0</td>\n",
              "      <td>0</td>\n",
              "      <td>0</td>\n",
              "      <td>0</td>\n",
              "      <td>0</td>\n",
              "      <td>0</td>\n",
              "      <td>0</td>\n",
              "      <td>0</td>\n",
              "    </tr>\n",
              "    <tr>\n",
              "      <th>141365</th>\n",
              "      <td>0</td>\n",
              "      <td>0</td>\n",
              "      <td>0</td>\n",
              "      <td>0</td>\n",
              "      <td>0</td>\n",
              "      <td>0</td>\n",
              "      <td>0</td>\n",
              "      <td>0</td>\n",
              "      <td>0</td>\n",
              "      <td>0</td>\n",
              "      <td>0</td>\n",
              "      <td>0</td>\n",
              "      <td>0</td>\n",
              "      <td>0</td>\n",
              "      <td>0</td>\n",
              "      <td>0</td>\n",
              "      <td>1</td>\n",
              "      <td>1</td>\n",
              "      <td>0</td>\n",
              "    </tr>\n",
              "    <tr>\n",
              "      <th>141384</th>\n",
              "      <td>0</td>\n",
              "      <td>0</td>\n",
              "      <td>0</td>\n",
              "      <td>0</td>\n",
              "      <td>0</td>\n",
              "      <td>0</td>\n",
              "      <td>0</td>\n",
              "      <td>0</td>\n",
              "      <td>0</td>\n",
              "      <td>1</td>\n",
              "      <td>0</td>\n",
              "      <td>0</td>\n",
              "      <td>0</td>\n",
              "      <td>0</td>\n",
              "      <td>0</td>\n",
              "      <td>1</td>\n",
              "      <td>0</td>\n",
              "      <td>0</td>\n",
              "      <td>0</td>\n",
              "    </tr>\n",
              "    <tr>\n",
              "      <th>141450</th>\n",
              "      <td>0</td>\n",
              "      <td>0</td>\n",
              "      <td>0</td>\n",
              "      <td>0</td>\n",
              "      <td>0</td>\n",
              "      <td>0</td>\n",
              "      <td>0</td>\n",
              "      <td>1</td>\n",
              "      <td>0</td>\n",
              "      <td>1</td>\n",
              "      <td>0</td>\n",
              "      <td>0</td>\n",
              "      <td>0</td>\n",
              "      <td>0</td>\n",
              "      <td>0</td>\n",
              "      <td>0</td>\n",
              "      <td>0</td>\n",
              "      <td>0</td>\n",
              "      <td>0</td>\n",
              "    </tr>\n",
              "  </tbody>\n",
              "</table>\n",
              "</div>"
            ],
            "text/plain": [
              "          Product_20in Monitor  ...  Product_iPhone\n",
              "Order ID                        ...                \n",
              "141275                       0  ...               0\n",
              "141290                       0  ...               0\n",
              "141365                       0  ...               0\n",
              "141384                       0  ...               0\n",
              "141450                       0  ...               0\n",
              "\n",
              "[5 rows x 19 columns]"
            ]
          },
          "metadata": {},
          "execution_count": 12
        }
      ]
    },
    {
      "cell_type": "code",
      "source": [
        "#제품명을 쉽게 알아보기 위해 컬럼에 공통적으로 들어가는  \"Product_\"을 공백으로 바꿔주었음.\n",
        "encoder_data.columns = encoder_data.columns.str.replace('Product_','')"
      ],
      "metadata": {
        "id": "FCUqRABd2uBz"
      },
      "execution_count": null,
      "outputs": []
    },
    {
      "cell_type": "code",
      "source": [
        "# 결과 확인\n",
        "encoder_data.head()"
      ],
      "metadata": {
        "colab": {
          "base_uri": "https://localhost:8080/",
          "height": 310
        },
        "id": "NUwFRYxnIdD5",
        "outputId": "f5fd90a2-6dfa-45b7-ad40-2acdc6debd18"
      },
      "execution_count": null,
      "outputs": [
        {
          "output_type": "execute_result",
          "data": {
            "text/html": [
              "<div>\n",
              "<style scoped>\n",
              "    .dataframe tbody tr th:only-of-type {\n",
              "        vertical-align: middle;\n",
              "    }\n",
              "\n",
              "    .dataframe tbody tr th {\n",
              "        vertical-align: top;\n",
              "    }\n",
              "\n",
              "    .dataframe thead th {\n",
              "        text-align: right;\n",
              "    }\n",
              "</style>\n",
              "<table border=\"1\" class=\"dataframe\">\n",
              "  <thead>\n",
              "    <tr style=\"text-align: right;\">\n",
              "      <th></th>\n",
              "      <th>20in Monitor</th>\n",
              "      <th>27in 4K Gaming Monitor</th>\n",
              "      <th>27in FHD Monitor</th>\n",
              "      <th>34in Ultrawide Monitor</th>\n",
              "      <th>AA Batteries (4-pack)</th>\n",
              "      <th>AAA Batteries (4-pack)</th>\n",
              "      <th>Apple Airpods Headphones</th>\n",
              "      <th>Bose SoundSport Headphones</th>\n",
              "      <th>Flatscreen TV</th>\n",
              "      <th>Google Phone</th>\n",
              "      <th>LG Dryer</th>\n",
              "      <th>LG Washing Machine</th>\n",
              "      <th>Lightning Charging Cable</th>\n",
              "      <th>Macbook Pro Laptop</th>\n",
              "      <th>ThinkPad Laptop</th>\n",
              "      <th>USB-C Charging Cable</th>\n",
              "      <th>Vareebadd Phone</th>\n",
              "      <th>Wired Headphones</th>\n",
              "      <th>iPhone</th>\n",
              "    </tr>\n",
              "    <tr>\n",
              "      <th>Order ID</th>\n",
              "      <th></th>\n",
              "      <th></th>\n",
              "      <th></th>\n",
              "      <th></th>\n",
              "      <th></th>\n",
              "      <th></th>\n",
              "      <th></th>\n",
              "      <th></th>\n",
              "      <th></th>\n",
              "      <th></th>\n",
              "      <th></th>\n",
              "      <th></th>\n",
              "      <th></th>\n",
              "      <th></th>\n",
              "      <th></th>\n",
              "      <th></th>\n",
              "      <th></th>\n",
              "      <th></th>\n",
              "      <th></th>\n",
              "    </tr>\n",
              "  </thead>\n",
              "  <tbody>\n",
              "    <tr>\n",
              "      <th>141275</th>\n",
              "      <td>0</td>\n",
              "      <td>0</td>\n",
              "      <td>0</td>\n",
              "      <td>0</td>\n",
              "      <td>0</td>\n",
              "      <td>0</td>\n",
              "      <td>0</td>\n",
              "      <td>0</td>\n",
              "      <td>0</td>\n",
              "      <td>0</td>\n",
              "      <td>0</td>\n",
              "      <td>0</td>\n",
              "      <td>0</td>\n",
              "      <td>0</td>\n",
              "      <td>0</td>\n",
              "      <td>1</td>\n",
              "      <td>0</td>\n",
              "      <td>1</td>\n",
              "      <td>0</td>\n",
              "    </tr>\n",
              "    <tr>\n",
              "      <th>141290</th>\n",
              "      <td>0</td>\n",
              "      <td>0</td>\n",
              "      <td>0</td>\n",
              "      <td>0</td>\n",
              "      <td>1</td>\n",
              "      <td>0</td>\n",
              "      <td>1</td>\n",
              "      <td>0</td>\n",
              "      <td>0</td>\n",
              "      <td>0</td>\n",
              "      <td>0</td>\n",
              "      <td>0</td>\n",
              "      <td>0</td>\n",
              "      <td>0</td>\n",
              "      <td>0</td>\n",
              "      <td>0</td>\n",
              "      <td>0</td>\n",
              "      <td>0</td>\n",
              "      <td>0</td>\n",
              "    </tr>\n",
              "    <tr>\n",
              "      <th>141365</th>\n",
              "      <td>0</td>\n",
              "      <td>0</td>\n",
              "      <td>0</td>\n",
              "      <td>0</td>\n",
              "      <td>0</td>\n",
              "      <td>0</td>\n",
              "      <td>0</td>\n",
              "      <td>0</td>\n",
              "      <td>0</td>\n",
              "      <td>0</td>\n",
              "      <td>0</td>\n",
              "      <td>0</td>\n",
              "      <td>0</td>\n",
              "      <td>0</td>\n",
              "      <td>0</td>\n",
              "      <td>0</td>\n",
              "      <td>1</td>\n",
              "      <td>1</td>\n",
              "      <td>0</td>\n",
              "    </tr>\n",
              "    <tr>\n",
              "      <th>141384</th>\n",
              "      <td>0</td>\n",
              "      <td>0</td>\n",
              "      <td>0</td>\n",
              "      <td>0</td>\n",
              "      <td>0</td>\n",
              "      <td>0</td>\n",
              "      <td>0</td>\n",
              "      <td>0</td>\n",
              "      <td>0</td>\n",
              "      <td>1</td>\n",
              "      <td>0</td>\n",
              "      <td>0</td>\n",
              "      <td>0</td>\n",
              "      <td>0</td>\n",
              "      <td>0</td>\n",
              "      <td>1</td>\n",
              "      <td>0</td>\n",
              "      <td>0</td>\n",
              "      <td>0</td>\n",
              "    </tr>\n",
              "    <tr>\n",
              "      <th>141450</th>\n",
              "      <td>0</td>\n",
              "      <td>0</td>\n",
              "      <td>0</td>\n",
              "      <td>0</td>\n",
              "      <td>0</td>\n",
              "      <td>0</td>\n",
              "      <td>0</td>\n",
              "      <td>1</td>\n",
              "      <td>0</td>\n",
              "      <td>1</td>\n",
              "      <td>0</td>\n",
              "      <td>0</td>\n",
              "      <td>0</td>\n",
              "      <td>0</td>\n",
              "      <td>0</td>\n",
              "      <td>0</td>\n",
              "      <td>0</td>\n",
              "      <td>0</td>\n",
              "      <td>0</td>\n",
              "    </tr>\n",
              "  </tbody>\n",
              "</table>\n",
              "</div>"
            ],
            "text/plain": [
              "          20in Monitor  27in 4K Gaming Monitor  ...  Wired Headphones  iPhone\n",
              "Order ID                                        ...                          \n",
              "141275               0                       0  ...                 1       0\n",
              "141290               0                       0  ...                 0       0\n",
              "141365               0                       0  ...                 1       0\n",
              "141384               0                       0  ...                 0       0\n",
              "141450               0                       0  ...                 0       0\n",
              "\n",
              "[5 rows x 19 columns]"
            ]
          },
          "metadata": {},
          "execution_count": 14
        }
      ]
    },
    {
      "cell_type": "code",
      "source": [
        "# Apriori 분석을 하기 전, 데이터가 0,1만 있는지 확인하기 위해 max함수를 이용해 각 컬럼별 최대값 검색\n",
        "# 3개의 컬럼을 제외하고는 2가 있는 것을 확인\n",
        "encoder_data.max()"
      ],
      "metadata": {
        "colab": {
          "base_uri": "https://localhost:8080/"
        },
        "id": "KK2gGi-gJ6dR",
        "outputId": "8501a0ef-1392-412a-b09a-17a243d98bfb"
      },
      "execution_count": null,
      "outputs": [
        {
          "output_type": "execute_result",
          "data": {
            "text/plain": [
              "20in Monitor                  2\n",
              "27in 4K Gaming Monitor        2\n",
              "27in FHD Monitor              2\n",
              "34in Ultrawide Monitor        2\n",
              "AA Batteries (4-pack)         2\n",
              "AAA Batteries (4-pack)        2\n",
              "Apple Airpods Headphones      2\n",
              "Bose SoundSport Headphones    2\n",
              "Flatscreen TV                 2\n",
              "Google Phone                  2\n",
              "LG Dryer                      1\n",
              "LG Washing Machine            1\n",
              "Lightning Charging Cable      2\n",
              "Macbook Pro Laptop            2\n",
              "ThinkPad Laptop               2\n",
              "USB-C Charging Cable          2\n",
              "Vareebadd Phone               1\n",
              "Wired Headphones              2\n",
              "iPhone                        2\n",
              "dtype: uint8"
            ]
          },
          "metadata": {},
          "execution_count": 535
        }
      ]
    },
    {
      "cell_type": "code",
      "source": [
        "# 최소값도 0이 맞는지 확인\n",
        "# 모든 컬럼이 최소값 0 \n",
        "encoder_data.min()"
      ],
      "metadata": {
        "colab": {
          "base_uri": "https://localhost:8080/"
        },
        "id": "PS6itS_2Kak6",
        "outputId": "8793c63a-965d-4bc1-9e7d-64effcca2950"
      },
      "execution_count": null,
      "outputs": [
        {
          "output_type": "execute_result",
          "data": {
            "text/plain": [
              "20in Monitor                  0\n",
              "27in 4K Gaming Monitor        0\n",
              "27in FHD Monitor              0\n",
              "34in Ultrawide Monitor        0\n",
              "AA Batteries (4-pack)         0\n",
              "AAA Batteries (4-pack)        0\n",
              "Apple Airpods Headphones      0\n",
              "Bose SoundSport Headphones    0\n",
              "Flatscreen TV                 0\n",
              "Google Phone                  0\n",
              "LG Dryer                      0\n",
              "LG Washing Machine            0\n",
              "Lightning Charging Cable      0\n",
              "Macbook Pro Laptop            0\n",
              "ThinkPad Laptop               0\n",
              "USB-C Charging Cable          0\n",
              "Vareebadd Phone               0\n",
              "Wired Headphones              0\n",
              "iPhone                        0\n",
              "dtype: uint8"
            ]
          },
          "metadata": {},
          "execution_count": 536
        }
      ]
    },
    {
      "cell_type": "code",
      "source": [
        "#encoder_data 중 2라는 데이터의 갯수 파악\n",
        "encoder_data[encoder_data == 2].sum()"
      ],
      "metadata": {
        "colab": {
          "base_uri": "https://localhost:8080/"
        },
        "id": "yawrGtxhzh6E",
        "outputId": "5da8c79c-17c7-4668-8d4e-0d7ca16bbdbd"
      },
      "execution_count": null,
      "outputs": [
        {
          "output_type": "execute_result",
          "data": {
            "text/plain": [
              "20in Monitor                    6.0\n",
              "27in 4K Gaming Monitor         10.0\n",
              "27in FHD Monitor               18.0\n",
              "34in Ultrawide Monitor         14.0\n",
              "AA Batteries (4-pack)          70.0\n",
              "AAA Batteries (4-pack)         96.0\n",
              "Apple Airpods Headphones       48.0\n",
              "Bose SoundSport Headphones     54.0\n",
              "Flatscreen TV                  12.0\n",
              "Google Phone                    6.0\n",
              "LG Dryer                        0.0\n",
              "LG Washing Machine              0.0\n",
              "Lightning Charging Cable      108.0\n",
              "Macbook Pro Laptop              6.0\n",
              "ThinkPad Laptop                 4.0\n",
              "USB-C Charging Cable           96.0\n",
              "Vareebadd Phone                 0.0\n",
              "Wired Headphones               70.0\n",
              "iPhone                          4.0\n",
              "dtype: float64"
            ]
          },
          "metadata": {},
          "execution_count": 541
        }
      ]
    },
    {
      "cell_type": "code",
      "source": [
        "# 2는 제거하지않고, 1로 replace 해주었음.\n",
        "encoder_data =encoder_data.replace(2,1)"
      ],
      "metadata": {
        "id": "T1rXslDJyx1G"
      },
      "execution_count": null,
      "outputs": []
    },
    {
      "cell_type": "code",
      "source": [
        "# 데이터 내 2가 대체되어 사라진 것을 확인 할 수 있음.\n",
        "encoder_data[encoder_data == 2].sum()"
      ],
      "metadata": {
        "colab": {
          "base_uri": "https://localhost:8080/"
        },
        "id": "sOkdUNuWzHRk",
        "outputId": "465c8b29-23d3-4445-8f83-48daae03ebeb"
      },
      "execution_count": null,
      "outputs": [
        {
          "output_type": "execute_result",
          "data": {
            "text/plain": [
              "20in Monitor                  0.0\n",
              "27in 4K Gaming Monitor        0.0\n",
              "27in FHD Monitor              0.0\n",
              "34in Ultrawide Monitor        0.0\n",
              "AA Batteries (4-pack)         0.0\n",
              "AAA Batteries (4-pack)        0.0\n",
              "Apple Airpods Headphones      0.0\n",
              "Bose SoundSport Headphones    0.0\n",
              "Flatscreen TV                 0.0\n",
              "Google Phone                  0.0\n",
              "LG Dryer                      0.0\n",
              "LG Washing Machine            0.0\n",
              "Lightning Charging Cable      0.0\n",
              "Macbook Pro Laptop            0.0\n",
              "ThinkPad Laptop               0.0\n",
              "USB-C Charging Cable          0.0\n",
              "Vareebadd Phone               0.0\n",
              "Wired Headphones              0.0\n",
              "iPhone                        0.0\n",
              "dtype: float64"
            ]
          },
          "metadata": {},
          "execution_count": 543
        }
      ]
    },
    {
      "cell_type": "code",
      "source": [
        "#Apriori분석을 위해 import\n",
        "from mlxtend.frequent_patterns import apriori"
      ],
      "metadata": {
        "id": "sU_teq_L2rnD"
      },
      "execution_count": null,
      "outputs": []
    },
    {
      "cell_type": "code",
      "source": [
        "#정제된 encoder_data를 사용해 apriori로 최소지지도0.005 이상인 itemsets를 찾아 지지도 기준으로 내림차순 하였음.\n",
        "frequent_product = apriori(encoder_data, min_support=0.005,  use_colnames=True, )\n",
        "frequent_product.sort_values('support',ascending=False,inplace=True)"
      ],
      "metadata": {
        "id": "IFa6ul1JxgFT"
      },
      "execution_count": null,
      "outputs": []
    },
    {
      "cell_type": "code",
      "source": [
        "# 지지도 상위 10개의 조합을 검색 \n",
        "# len = 1인 itemsets를 제외하고 가장 높은 지지도를 보여주는 \n",
        "# (iPhone, Lightning Charging Cable) 조합이 전체 sales 데이터 중 가장 많이 팔린 조합인 것으로 결과가 나옴.\n",
        "frequent_product.head(10)"
      ],
      "metadata": {
        "colab": {
          "base_uri": "https://localhost:8080/",
          "height": 363
        },
        "id": "PZVGRQFS0v37",
        "outputId": "b8f1df08-cb0f-43ef-ceec-660004ab0867"
      },
      "execution_count": null,
      "outputs": [
        {
          "output_type": "execute_result",
          "data": {
            "text/html": [
              "<div>\n",
              "<style scoped>\n",
              "    .dataframe tbody tr th:only-of-type {\n",
              "        vertical-align: middle;\n",
              "    }\n",
              "\n",
              "    .dataframe tbody tr th {\n",
              "        vertical-align: top;\n",
              "    }\n",
              "\n",
              "    .dataframe thead th {\n",
              "        text-align: right;\n",
              "    }\n",
              "</style>\n",
              "<table border=\"1\" class=\"dataframe\">\n",
              "  <thead>\n",
              "    <tr style=\"text-align: right;\">\n",
              "      <th></th>\n",
              "      <th>support</th>\n",
              "      <th>itemsets</th>\n",
              "    </tr>\n",
              "  </thead>\n",
              "  <tbody>\n",
              "    <tr>\n",
              "      <th>13</th>\n",
              "      <td>0.289098</td>\n",
              "      <td>(USB-C Charging Cable)</td>\n",
              "    </tr>\n",
              "    <tr>\n",
              "      <th>16</th>\n",
              "      <td>0.261351</td>\n",
              "      <td>(iPhone)</td>\n",
              "    </tr>\n",
              "    <tr>\n",
              "      <th>10</th>\n",
              "      <td>0.248459</td>\n",
              "      <td>(Lightning Charging Cable)</td>\n",
              "    </tr>\n",
              "    <tr>\n",
              "      <th>15</th>\n",
              "      <td>0.229680</td>\n",
              "      <td>(Wired Headphones)</td>\n",
              "    </tr>\n",
              "    <tr>\n",
              "      <th>9</th>\n",
              "      <td>0.229260</td>\n",
              "      <td>(Google Phone)</td>\n",
              "    </tr>\n",
              "    <tr>\n",
              "      <th>45</th>\n",
              "      <td>0.141676</td>\n",
              "      <td>(iPhone, Lightning Charging Cable)</td>\n",
              "    </tr>\n",
              "    <tr>\n",
              "      <th>41</th>\n",
              "      <td>0.139714</td>\n",
              "      <td>(USB-C Charging Cable, Google Phone)</td>\n",
              "    </tr>\n",
              "    <tr>\n",
              "      <th>6</th>\n",
              "      <td>0.133128</td>\n",
              "      <td>(Apple Airpods Headphones)</td>\n",
              "    </tr>\n",
              "    <tr>\n",
              "      <th>7</th>\n",
              "      <td>0.111127</td>\n",
              "      <td>(Bose SoundSport Headphones)</td>\n",
              "    </tr>\n",
              "    <tr>\n",
              "      <th>5</th>\n",
              "      <td>0.107483</td>\n",
              "      <td>(AAA Batteries (4-pack))</td>\n",
              "    </tr>\n",
              "  </tbody>\n",
              "</table>\n",
              "</div>"
            ],
            "text/plain": [
              "     support                              itemsets\n",
              "13  0.289098                (USB-C Charging Cable)\n",
              "16  0.261351                              (iPhone)\n",
              "10  0.248459            (Lightning Charging Cable)\n",
              "15  0.229680                    (Wired Headphones)\n",
              "9   0.229260                        (Google Phone)\n",
              "45  0.141676    (iPhone, Lightning Charging Cable)\n",
              "41  0.139714  (USB-C Charging Cable, Google Phone)\n",
              "6   0.133128            (Apple Airpods Headphones)\n",
              "7   0.111127          (Bose SoundSport Headphones)\n",
              "5   0.107483              (AAA Batteries (4-pack))"
            ]
          },
          "metadata": {},
          "execution_count": 546
        }
      ]
    }
  ]
}