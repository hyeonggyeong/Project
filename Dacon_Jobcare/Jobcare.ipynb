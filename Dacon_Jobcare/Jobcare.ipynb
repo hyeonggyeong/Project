{
  "nbformat": 4,
  "nbformat_minor": 0,
  "metadata": {
    "colab": {
      "name": "Jobcare.ipynb",
      "provenance": [],
      "collapsed_sections": [],
      "authorship_tag": "ABX9TyOkMynlWfIbXi47//DS+3zu",
      "include_colab_link": true
    },
    "kernelspec": {
      "name": "python3",
      "display_name": "Python 3"
    },
    "language_info": {
      "name": "python"
    },
    "accelerator": "GPU"
  },
  "cells": [
    {
      "cell_type": "markdown",
      "metadata": {
        "id": "view-in-github",
        "colab_type": "text"
      },
      "source": [
        "<a href=\"https://colab.research.google.com/github/hyeonggyeong/Project/blob/main/Dacon_Jobcare/Jobcare.ipynb\" target=\"_parent\"><img src=\"https://colab.research.google.com/assets/colab-badge.svg\" alt=\"Open In Colab\"/></a>"
      ]
    },
    {
      "cell_type": "code",
      "source": [
        "# !pip install xgboost"
      ],
      "metadata": {
        "id": "Mzfy-ZPjJXY9"
      },
      "execution_count": null,
      "outputs": []
    },
    {
      "cell_type": "code",
      "execution_count": null,
      "metadata": {
        "id": "qClLAaoBYcLR",
        "colab": {
          "base_uri": "https://localhost:8080/"
        },
        "outputId": "d79ba9b9-3cf9-423b-c4bc-3059928b6884"
      },
      "outputs": [
        {
          "output_type": "stream",
          "name": "stdout",
          "text": [
            "Mounted at /content/drive\n"
          ]
        }
      ],
      "source": [
        "import numpy as np\n",
        "import pandas as pd\n",
        "import matplotlib.pyplot as plt\n",
        "import matplotlib.dates as mdates\n",
        "import seaborn as sns\n",
        "from imblearn.over_sampling import SMOTE\n",
        "import os\n",
        "\n",
        "import sklearn.svm as svm\n",
        "from sklearn.ensemble import RandomForestClassifier\n",
        "from sklearn.metrics import accuracy_score \n",
        "\n",
        "from sklearn import preprocessing\n",
        "from sklearn.preprocessing import StandardScaler\n",
        "from sklearn.model_selection import train_test_split\n",
        "from sklearn import svm\n",
        "from sklearn.metrics import accuracy_score, recall_score, precision_score, f1_score\n",
        "\n",
        "from google.colab import drive\n",
        "drive.mount('/content/drive')"
      ]
    },
    {
      "cell_type": "code",
      "source": [
        "train = pd.read_csv('/content/drive/MyDrive/data/Jobcare_data/train.csv')\n",
        "test = pd.read_csv('/content/drive/MyDrive/data/Jobcare_data/test.csv')"
      ],
      "metadata": {
        "id": "Jns6QyzmZa4X"
      },
      "execution_count": null,
      "outputs": []
    },
    {
      "cell_type": "code",
      "source": [
        "train['contents_open_dt']=pd.to_datetime(train['contents_open_dt'])\n",
        "test['contents_open_dt']=pd.to_datetime(test['contents_open_dt'])"
      ],
      "metadata": {
        "id": "FFwZrhO1cuo9"
      },
      "execution_count": null,
      "outputs": []
    },
    {
      "cell_type": "code",
      "source": [
        "train['d_l_match_yn'] = train['d_l_match_yn'].replace([True,False],[1,0])\n",
        "train['d_m_match_yn'] = train['d_l_match_yn'].replace([True,False],[1,0])\n",
        "train['d_s_match_yn'] = train['d_l_match_yn'].replace([True,False],[1,0])\n",
        "train['h_l_match_yn'] = train['d_l_match_yn'].replace([True,False],[1,0])\n",
        "train['h_m_match_yn'] = train['d_l_match_yn'].replace([True,False],[1,0])\n",
        "train['h_s_match_yn'] = train['d_l_match_yn'].replace([True,False],[1,0])\n",
        "\n",
        "test['d_l_match_yn'] = test['d_l_match_yn'].replace([True,False],[1,0])\n",
        "test['d_m_match_yn'] = test['d_l_match_yn'].replace([True,False],[1,0])\n",
        "test['d_s_match_yn'] = test['d_l_match_yn'].replace([True,False],[1,0])\n",
        "test['h_l_match_yn'] = test['d_l_match_yn'].replace([True,False],[1,0])\n",
        "test['h_m_match_yn'] = test['d_l_match_yn'].replace([True,False],[1,0])\n",
        "test['h_s_match_yn'] = test['d_l_match_yn'].replace([True,False],[1,0])"
      ],
      "metadata": {
        "id": "gTcXEj0Seo6X"
      },
      "execution_count": null,
      "outputs": []
    },
    {
      "cell_type": "code",
      "source": [
        "train['d_l_match_yn'].value_counts()"
      ],
      "metadata": {
        "colab": {
          "base_uri": "https://localhost:8080/"
        },
        "id": "i97KvviOeqUy",
        "outputId": "dc9768b9-672c-43ab-a1e6-9167a10ac699"
      },
      "execution_count": null,
      "outputs": [
        {
          "output_type": "execute_result",
          "data": {
            "text/plain": [
              "1    315268\n",
              "0    186683\n",
              "Name: d_l_match_yn, dtype: int64"
            ]
          },
          "metadata": {},
          "execution_count": 5
        }
      ]
    },
    {
      "cell_type": "code",
      "source": [
        "train = train.drop(['id', 'contents_open_dt'], axis=1) \n",
        "test = test.drop(['id', 'contents_open_dt'], axis=1)"
      ],
      "metadata": {
        "id": "1uhFCNzKhD6d"
      },
      "execution_count": null,
      "outputs": []
    },
    {
      "cell_type": "code",
      "source": [
        "x_data = train.drop('target',axis = 1)\n",
        "y_data = train['target']"
      ],
      "metadata": {
        "id": "Z19Ad-fllbux"
      },
      "execution_count": null,
      "outputs": []
    },
    {
      "cell_type": "code",
      "source": [
        "x_train,x_test,y_train,y_test = train_test_split(x_data, y_data, test_size=0.3, random_state=777, stratify=y_data)"
      ],
      "metadata": {
        "id": "Gz-q2KVBkeER"
      },
      "execution_count": null,
      "outputs": []
    },
    {
      "cell_type": "code",
      "source": [
        "#랜포\n",
        "# model_rf = RandomForestClassifier(n_estimators=59, max_depth=100,random_state=0)\n",
        "# model_rf.fit(x_train,y_train)\n",
        "# predict_rf = model_rf.predict(x_test)"
      ],
      "metadata": {
        "id": "7_5660CSmBhr"
      },
      "execution_count": null,
      "outputs": []
    },
    {
      "cell_type": "code",
      "source": [
        "#svm\n",
        "# model_svm = svm.SVC(C=48).fit(x_train, y_train)\n",
        "# preds = model_svm.predict(x_test)"
      ],
      "metadata": {
        "id": "J4BqqTbZHCLo"
      },
      "execution_count": null,
      "outputs": []
    },
    {
      "cell_type": "code",
      "source": [
        "# from xgboost import plot_importance\n",
        "# from xgboost import XGBClassifier\n",
        "# model = XGBClassifier()\n",
        "# model.fit(x_train,y_train)\n",
        "# preds = model.predict(x_test)"
      ],
      "metadata": {
        "id": "bvYy6WVqH8Zr"
      },
      "execution_count": null,
      "outputs": []
    },
    {
      "cell_type": "code",
      "source": [
        "import tensorflow as tf\n",
        "from tensorflow import keras\n",
        "from tensorflow.keras import layers as l\n",
        "\n",
        "layers = [l.Dense(128), l.ReLU(),          # 모든 입력노드가 모든 출력노드와 연결이 되도록하는 과정 \n",
        "          l.Dense(256), l.ReLU(),          # Dense_1(128개) → Dense_2(256개) → Dense_3(512개) 계속 연결해 나아감\n",
        "          l.Dense(512), l.ReLU(),          # 다음 노드로 연결시키기 위한 함수 ReLU\n",
        "          l.Dense(10), l.Softmax()]        # 0과 1의 확률로 표현해주는 Softmax함수\n",
        "model = keras.Sequential(layers,name = 'MyModel')  # keras모듈 내부 Sequential모듈을 가지고 와서 레이어 리스트를 모델로 변환\n"
      ],
      "metadata": {
        "id": "K94HdGj1Mi46"
      },
      "execution_count": null,
      "outputs": []
    },
    {
      "cell_type": "code",
      "source": [
        "learning_rate = 1e-3"
      ],
      "metadata": {
        "id": "NcprY5xBNfyj"
      },
      "execution_count": null,
      "outputs": []
    },
    {
      "cell_type": "code",
      "source": [
        "loss_funtion =  keras.losses.SparseCategoricalCrossentropy()  # 학습에 필요한 손실 함수 및 모델 내부 가중치 조절하는 정책을 생성\n",
        "optimizer = keras.optimizers.Adam(learning_rate=learning_rate)  \n",
        "\n",
        "model.compile(optimizer = optimizer,\n",
        "              loss=loss_funtion,\n",
        "              metrics = [keras.metrics.SparseCategoricalAccuracy(name='acc')])"
      ],
      "metadata": {
        "id": "VpAKeOInMyB6"
      },
      "execution_count": null,
      "outputs": []
    },
    {
      "cell_type": "code",
      "source": [
        "history = model.fit(x=x_test, y= y_test, batch_size = 128, epochs= 10)"
      ],
      "metadata": {
        "colab": {
          "base_uri": "https://localhost:8080/"
        },
        "id": "i1CSXL8BM1RB",
        "outputId": "34e328ca-70da-44b0-db58-66c531193f1c"
      },
      "execution_count": null,
      "outputs": [
        {
          "output_type": "stream",
          "name": "stdout",
          "text": [
            "Epoch 1/10\n",
            "1177/1177 [==============================] - 7s 6ms/step - loss: 0.6562 - acc: 0.6043\n",
            "Epoch 2/10\n",
            "1177/1177 [==============================] - 5s 4ms/step - loss: 0.6535 - acc: 0.6076\n",
            "Epoch 3/10\n",
            "1177/1177 [==============================] - 4s 4ms/step - loss: 0.6505 - acc: 0.6118\n",
            "Epoch 4/10\n",
            "1177/1177 [==============================] - 4s 4ms/step - loss: 0.6465 - acc: 0.6152\n",
            "Epoch 5/10\n",
            "1177/1177 [==============================] - 4s 4ms/step - loss: 0.6426 - acc: 0.6203\n",
            "Epoch 6/10\n",
            "1177/1177 [==============================] - 4s 4ms/step - loss: 0.6376 - acc: 0.6253\n",
            "Epoch 7/10\n",
            "1177/1177 [==============================] - 4s 4ms/step - loss: 0.6318 - acc: 0.6325\n",
            "Epoch 8/10\n",
            "1177/1177 [==============================] - 4s 4ms/step - loss: 0.6242 - acc: 0.6393\n",
            "Epoch 9/10\n",
            "1177/1177 [==============================] - 4s 4ms/step - loss: 0.6158 - acc: 0.6482\n",
            "Epoch 10/10\n",
            "1177/1177 [==============================] - 4s 4ms/step - loss: 0.6063 - acc: 0.6580\n"
          ]
        }
      ]
    },
    {
      "cell_type": "code",
      "source": [
        "result = model.evaluate(x=x_test, y=y_test)\n",
        "evaluate = dict(zip(model.metrics_names, result))\n",
        "print(evaluate)"
      ],
      "metadata": {
        "colab": {
          "base_uri": "https://localhost:8080/"
        },
        "id": "6JDJaYvxM20K",
        "outputId": "57afb4cc-681e-42f2-9b53-7b0a638b7302"
      },
      "execution_count": null,
      "outputs": [
        {
          "output_type": "stream",
          "name": "stdout",
          "text": [
            "4706/4706 [==============================] - 14s 3ms/step - loss: 0.5853 - acc: 0.6799\n",
            "{'loss': 0.5853011012077332, 'acc': 0.6798971891403198}\n"
          ]
        }
      ]
    },
    {
      "cell_type": "code",
      "source": [
        "model.predict_proba(x_test)"
      ],
      "metadata": {
        "id": "OGKlOCGYOedg"
      },
      "execution_count": null,
      "outputs": []
    },
    {
      "cell_type": "code",
      "source": [
        "# print(accuracy_score(y_test, preds))\t\n",
        "# print(recall_score(y_test, preds))\t\n",
        "# print(precision_score(y_test, preds))\t\n",
        "# print(f1_score(y_test, preds))"
      ],
      "metadata": {
        "id": "oV3MJmDNpQEt"
      },
      "execution_count": null,
      "outputs": []
    },
    {
      "cell_type": "code",
      "source": [
        ""
      ],
      "metadata": {
        "id": "ZWJJ8GiPTRAO"
      },
      "execution_count": null,
      "outputs": []
    }
  ]
}