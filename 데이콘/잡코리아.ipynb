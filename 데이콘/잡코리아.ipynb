{
  "nbformat": 4,
  "nbformat_minor": 0,
  "metadata": {
    "colab": {
      "name": "잡코리아.ipynb",
      "provenance": [],
      "collapsed_sections": [],
      "authorship_tag": "ABX9TyPRNAk+qUjDtwEgD++IzRI+",
      "include_colab_link": true
    },
    "kernelspec": {
      "name": "python3",
      "display_name": "Python 3"
    },
    "language_info": {
      "name": "python"
    }
  },
  "cells": [
    {
      "cell_type": "markdown",
      "metadata": {
        "id": "view-in-github",
        "colab_type": "text"
      },
      "source": [
        "<a href=\"https://colab.research.google.com/github/hyeonggyeong/Project/blob/main/%EB%8D%B0%EC%9D%B4%EC%BD%98/%EC%9E%A1%EC%BD%94%EB%A6%AC%EC%95%84.ipynb\" target=\"_parent\"><img src=\"https://colab.research.google.com/assets/colab-badge.svg\" alt=\"Open In Colab\"/></a>"
      ]
    },
    {
      "cell_type": "code",
      "execution_count": null,
      "metadata": {
        "id": "VgiAtxg04ACo"
      },
      "outputs": [],
      "source": [
        "import requests\n",
        "import csv\n",
        "from tqdm import tqdm\n",
        "import urllib\n",
        "from bs4 import BeautifulSoup as bs\n",
        "import pandas as pd\n",
        "\n",
        "\n",
        "\n",
        "base_url = 'http://www.jobkorea.co.kr/Search/?stext={}&tabType=recruit&Page_No={}'\n",
        "\n",
        "\n",
        "def crawler(keyword, page_num):\n",
        "    keyword = urllib.parse.quote(keyword)\n",
        "    url = base_url.format(keyword,page_num)\n",
        "    response = urllib.request.urlopen(url)\n",
        "    soup = bs(response,'html.parser')\n",
        "\n",
        "    #컬럼\n",
        "    name = [element.text for element in soup.select(\"a.name\")][:20]\n",
        "    title = [element.text for element in soup.select(\"div.post-list-info > a.title\")][:20]\n",
        "    title = [element.replace(\"\\n\",\"\").replace(\"\\r\",\"\") for element in title]\n",
        "    exp = [element.text for element in soup.select(\"p.option > span.exp\")][:20]\n",
        "    edu = [element.text for element in soup.select(\"p.option > span.edu\")][:20]\n",
        "    loc_short = [element.text for element in soup.select(\"p.option > span.short\")][:20]\n",
        "    loc_long = [element.text for element in soup.select(\"p.option > span.long\")][:20]\n",
        "    date = [element.text for element in soup.select(\"p.option > span.date\")][:20]\n",
        "    job = [element.text for element in soup.select(\"div.post-list-info > p.etc\")][:20]\n",
        "    df = pd.DataFrame({'기업명' : name, '내용' : title, '고용형태' : exp, '경력' : edu ,'주소1' : loc_short, '주소2' : loc_long, '기간' : date, '직무키워드' : job})\n",
        "    return df"
      ]
    },
    {
      "cell_type": "code",
      "source": [
        "result = crawler(\"채용\",1)\n",
        "for i in range (2,100) :  # 2~100 페이지까지\n",
        "  result = result.append(crawler(\"채용\",i) )  # append\n",
        "result = result.reset_index(drop = True) #인덱스 초기화"
      ],
      "metadata": {
        "id": "0Y4QALSkntJH"
      },
      "execution_count": null,
      "outputs": []
    },
    {
      "cell_type": "code",
      "source": [
        "result.to_csv('잡코리아.csv', index=False, encoding=\"utf-8-sig\")"
      ],
      "metadata": {
        "id": "GGrNTB5NyI5G"
      },
      "execution_count": null,
      "outputs": []
    }
  ]
}